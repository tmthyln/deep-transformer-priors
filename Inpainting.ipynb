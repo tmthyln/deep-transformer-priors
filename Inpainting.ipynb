{
 "cells": [
  {
   "cell_type": "markdown",
   "metadata": {
    "collapsed": true,
    "pycharm": {
     "name": "#%% md\n"
    }
   },
   "source": [
    "# Inpainting Experiment with ViT Transformer\n",
    "\n",
    "## Dataset"
   ]
  },
  {
   "cell_type": "code",
   "execution_count": 37,
   "outputs": [],
   "source": [
    "from torchvision.transforms import transforms\n",
    "from torch.utils.data import DataLoader\n",
    "from vit.datasets import SingleImageDataset\n",
    "\n",
    "ds = SingleImageDataset(transform=transforms.ToTensor(), target_transform=transforms.ToTensor())\n",
    "dl = DataLoader(ds, batch_size=4, num_workers=2)"
   ],
   "metadata": {
    "collapsed": false,
    "pycharm": {
     "name": "#%%\n"
    }
   }
  },
  {
   "cell_type": "markdown",
   "source": [
    "## Create model\n"
   ],
   "metadata": {
    "collapsed": false,
    "pycharm": {
     "name": "#%% md\n"
    }
   }
  },
  {
   "cell_type": "code",
   "execution_count": 38,
   "outputs": [],
   "source": [
    "from matplotlib import pyplot as plt\n",
    "from torch import nn\n",
    "\n",
    "\n",
    "# custom loss function\n",
    "\n",
    "class PatchedMSELoss:\n",
    "\n",
    "    def __init__(self, patch_coords):\n",
    "        self.patch_coords = patch_coords\n",
    "\n",
    "        self.loss = nn.MSELoss()\n",
    "\n",
    "    def __call__(self, targets, outputs):\n",
    "        x_min, y_min, h, w = self.patch_coords\n",
    "\n",
    "        patch = torch.ones(1, 1, *outputs.shape[2:], dtype=torch.bool, device=outputs.device)\n",
    "        self.patch = patch\n",
    "        patch[0, x_min:x_min+h, y_min:y_min+w] = 0\n",
    "\n",
    "        return self.loss(targets * patch, outputs * patch)"
   ],
   "metadata": {
    "collapsed": false,
    "pycharm": {
     "name": "#%%\n"
    }
   }
  },
  {
   "cell_type": "code",
   "execution_count": 39,
   "outputs": [],
   "source": [
    "from vit.models import HourglassViT\n",
    "import torch\n",
    "\n",
    "patch_size = (16, 16)\n",
    "\n",
    "device = torch.device('cuda')\n",
    "\n",
    "model = HourglassViT(\n",
    "        image_size=ds.image_size,\n",
    "        patch_size=patch_size,\n",
    "        num_classes=10,\n",
    "        dim=1024,\n",
    "        depth=6,\n",
    "        heads=16,\n",
    "        mlp_dim=2048,\n",
    "        dropout=0.1,\n",
    "        emb_dropout=0.1).float().to(device)\n",
    "\n",
    "criterion = PatchedMSELoss([200, 400, 200, 200])\n",
    "optimizer = torch.optim.Adam(model.parameters(), lr=0.001)"
   ],
   "metadata": {
    "collapsed": false,
    "pycharm": {
     "name": "#%%\n"
    }
   }
  },
  {
   "cell_type": "markdown",
   "source": [
    "## Train model"
   ],
   "metadata": {
    "collapsed": false,
    "pycharm": {
     "name": "#%% md\n"
    }
   }
  },
  {
   "cell_type": "code",
   "execution_count": null,
   "outputs": [
    {
     "name": "stderr",
     "output_type": "stream",
     "text": [
      "Epoch 0:   0%|          | 0/100 [00:56<?, ?it/s, train loss=2147.261]"
     ]
    }
   ],
   "source": [
    "from tqdm import trange\n",
    "\n",
    "model.train()\n",
    "\n",
    "train_loss = []\n",
    "\n",
    "epoch_progress = trange(100)\n",
    "for epoch in epoch_progress:\n",
    "    epoch_progress.set_description(f'Epoch {epoch}')\n",
    "    running_loss = 0.\n",
    "    running_count = 0\n",
    "\n",
    "    for inputs, outputs in dl:\n",
    "        optimizer.zero_grad()\n",
    "\n",
    "        pred_outputs = model(inputs.to(device))\n",
    "        loss = criterion(outputs.to(device), pred_outputs)\n",
    "        loss.backward()\n",
    "        optimizer.step()\n",
    "\n",
    "        running_loss += loss.item()\n",
    "        running_count += inputs.size(0)\n",
    "\n",
    "        epoch_progress.set_postfix({\n",
    "            'train loss': f'{running_loss / running_count:.3f}'\n",
    "        })\n",
    "\n",
    "    train_loss.append(running_loss / running_count)\n",
    "    torch.save(model.state_dict(), f'checkpoints/model_checkpoint-{epoch}.pt')"
   ],
   "metadata": {
    "collapsed": false,
    "pycharm": {
     "name": "#%%\n",
     "is_executing": true
    }
   }
  },
  {
   "cell_type": "markdown",
   "source": [
    "## Evaluation"
   ],
   "metadata": {
    "collapsed": false,
    "pycharm": {
     "name": "#%% md\n"
    }
   }
  },
  {
   "cell_type": "code",
   "execution_count": null,
   "outputs": [],
   "source": [
    "plt.imshow(ds.image / 255)\n",
    "plt.show()"
   ],
   "metadata": {
    "collapsed": false,
    "pycharm": {
     "name": "#%%\n",
     "is_executing": true
    }
   }
  },
  {
   "cell_type": "code",
   "execution_count": null,
   "outputs": [],
   "source": [
    "test_dl = DataLoader(ds)\n",
    "for test_input, test_image in test_dl:\n",
    "    pred_image = model(test_input.to(device)).detach().cpu()\n",
    "\n",
    "    plt.imshow(test_image[0, ...].permute((1, 2, 0)) / 255)\n",
    "    plt.show()\n",
    "\n",
    "    plt.imshow((criterion.patch * test_image)[0, ...].permute((1, 2, 0)) / 255)\n",
    "    plt.show()\n",
    "\n",
    "    plt.imshow(pred_image[0, ...].permute((1, 2, 0)) / 255)\n",
    "    plt.show()\n",
    "\n",
    "    break"
   ],
   "metadata": {
    "collapsed": false,
    "pycharm": {
     "name": "#%%\n",
     "is_executing": true
    }
   }
  },
  {
   "cell_type": "code",
   "execution_count": null,
   "outputs": [],
   "source": [],
   "metadata": {
    "collapsed": false,
    "pycharm": {
     "name": "#%%",
     "is_executing": true
    }
   }
  }
 ],
 "metadata": {
  "kernelspec": {
   "display_name": "Python 3",
   "language": "python",
   "name": "python3"
  },
  "language_info": {
   "codemirror_mode": {
    "name": "ipython",
    "version": 2
   },
   "file_extension": ".py",
   "mimetype": "text/x-python",
   "name": "python",
   "nbconvert_exporter": "python",
   "pygments_lexer": "ipython2",
   "version": "2.7.6"
  }
 },
 "nbformat": 4,
 "nbformat_minor": 0
}